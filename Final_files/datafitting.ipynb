{
 "cells": [
  {
   "cell_type": "code",
   "execution_count": 1,
   "metadata": {
    "collapsed": true
   },
   "outputs": [],
   "source": [
    "# The following program fits the data for our model using actualcomparison data set. \n",
    "# we try to fit the data into our one protein species model\n",
    "# the fitting works well for the case where protease is at steadystate"
   ]
  },
  {
   "cell_type": "code",
   "execution_count": 3,
   "metadata": {
    "collapsed": false
   },
   "outputs": [],
   "source": [
    "import numpy as np\n",
    "# We are using #3c from actualcomparision\n",
    "data_x = np.array([0,20,40,60,80,100,120,140,160,180])\n",
    "data_y = np.array([0.007684816,0.026903985,0.318041772,0.603883329,\n",
    "                 0.778755759,0.897653379,0.978326541,0.994102523,0.985756947,1])\n",
    "data_3c = np.array([0.005734412,0.021740445,0.219150912,0.471201795,0.664563631,0.803649288,0.921761874,0.964511375,0.980587616,1])\n",
    "data_3a = np.array([0.005565952,0.034130264,0.318545682,0.581237081,0.764114792,0.884319561,0.925292138,0.982271605,1,0.980822705])\n",
    "data_3b = np.array([0.009441574,0.022154543,0.18415351,0.423867609,0.654994832,0.797862981,0.88450925,0.951453697,0.99814368,1])\n",
    "data_3e = np.array([0.004435785,0.016026941,0.200375598,0.451457754,0.644846274,0.789966614,0.88291191,0.949267901,0.994814785,1])\n",
    "datas = [data_3c,data_3a,data_3b,data_3e]"
   ]
  },
  {
   "cell_type": "code",
   "execution_count": 126,
   "metadata": {
    "collapsed": false,
    "scrolled": true
   },
   "outputs": [
    {
     "name": "stdout",
     "output_type": "stream",
     "text": [
      "[[Fit Statistics]]\n",
      "    # function evals   = 47\n",
      "    # data points      = 10\n",
      "    # variables        = 3\n",
      "    chi-square         = 1262096.297\n",
      "    reduced chi-square = 180299.471\n",
      "    Akaike info crit   = 123.457\n",
      "    Bayesian info crit = 124.365\n",
      "[[Variables]]\n",
      "    x0:   0.22666294 +/- 191.9571 (84688.37%) (init= 10.45642)\n",
      "    a:    9329.35767 +/- 9.68e+05 (10371.66%) (init= 4)\n",
      "    b:    0.92573609 +/- 0.641924 (69.34%) (init= 0.02)\n",
      "[[Correlations]] (unreported correlations are <  0.100)\n",
      "    C(a, b)                      = -0.990 \n",
      "    C(x0, a)                     = -0.453 \n",
      "    C(x0, b)                     =  0.434 \n",
      "None\n"
     ]
    },
    {
     "data": {
      "image/png": "[encoded data removed]",
      "text/plain": [
       "<matplotlib.figure.Figure at 0x1a198a2978>"
      ]
     },
     "metadata": {},
     "output_type": "display_data"
    },
    {
     "name": "stdout",
     "output_type": "stream",
     "text": [
      "[[Fit Statistics]]\n",
      "    # function evals   = 110\n",
      "    # data points      = 10\n",
      "    # variables        = 3\n",
      "    chi-square         = 681884.167\n",
      "    reduced chi-square = 97412.024\n",
      "    Akaike info crit   = 117.300\n",
      "    Bayesian info crit = 118.208\n",
      "[[Variables]]\n",
      "    x0:   0.00593925 +/- 81.16702 (1366619.07%) (init= 10.86029)\n",
      "    a:    27828.5912 +/- 2.51e+04 (90.11%) (init= 4)\n",
      "    b:    0.51885582 +/- 0.090810 (17.50%) (init= 0.02)\n",
      "[[Correlations]] (unreported correlations are <  0.100)\n",
      "    C(x0, a)                     = -0.721 \n",
      "    C(a, b)                      = -0.555 \n",
      "    C(x0, b)                     =  0.130 \n",
      "None\n"
     ]
    },
    {
     "data": {
      "image/png": "[encoded data removed]",
      "text/plain": [
       "<matplotlib.figure.Figure at 0x1a1995ad68>"
      ]
     },
     "metadata": {},
     "output_type": "display_data"
    },
    {
     "name": "stdout",
     "output_type": "stream",
     "text": [
      "[[Fit Statistics]]\n",
      "    # function evals   = 52\n",
      "    # data points      = 10\n",
      "    # variables        = 3\n",
      "    chi-square         = 3550554.377\n",
      "    reduced chi-square = 507222.054\n",
      "    Akaike info crit   = 133.800\n",
      "    Bayesian info crit = 134.708\n",
      "[[Variables]]\n",
      "    x0:   0.02241451 +/- 702.8865 (3135854.28%) (init= 14.43074)\n",
      "    a:    15584.6343 +/- 1.26e+04 (80.60%) (init= 4)\n",
      "    b:    0.99994288 +/- 0.206502 (20.65%) (init= 0.02)\n",
      "[[Correlations]] (unreported correlations are <  0.100)\n",
      "    C(a, b)                      = -0.669 \n",
      "    C(x0, a)                     =  0.117 \n",
      "None\n"
     ]
    },
    {
     "data": {
      "image/png": "[encoded data removed]",
      "text/plain": [
       "<matplotlib.figure.Figure at 0x1a197b1390>"
      ]
     },
     "metadata": {},
     "output_type": "display_data"
    },
    {
     "name": "stdout",
     "output_type": "stream",
     "text": [
      "[[Fit Statistics]]\n",
      "    # function evals   = 74\n",
      "    # data points      = 10\n",
      "    # variables        = 3\n",
      "    chi-square         = 8368620.583\n",
      "    reduced chi-square = 1195517.226\n",
      "    Akaike info crit   = 142.374\n",
      "    Bayesian info crit = 143.282\n",
      "[[Variables]]\n",
      "    x0:   0.02180633 +/- 448.5129 (2056801.28%) (init= 13.59846)\n",
      "    a:    1378.84722 +/- 4.84e+05 (35111.22%) (init= 4)\n",
      "    b:    0.99999997 +/- 4.818389 (481.84%) (init= 0.02)\n",
      "[[Correlations]] (unreported correlations are <  0.100)\n",
      "    C(a, b)                      = -0.999 \n",
      "    C(x0, b)                     =  0.254 \n",
      "    C(x0, a)                     = -0.253 \n",
      "None\n"
     ]
    },
    {
     "data": {
      "image/png": "[encoded data removed]",
      "text/plain": [
       "<matplotlib.figure.Figure at 0x1a19b535c0>"
      ]
     },
     "metadata": {},
     "output_type": "display_data"
    }
   ],
   "source": [
    "import matplotlib.pyplot as plt\n",
    "from lmfit import minimize, Parameters, Parameter, report_fit\n",
    "from scipy.integrate import odeint\n",
    "import numpy as np\n",
    "\n",
    "def f(X,t, ps): \n",
    "\n",
    "    degradation_dynamics_n  =  .3*(11.3 / 60 + np.log(2)/1200) * X / ps['a'].value\n",
    "    degradation_dynamics_d  = 1 +  X / ps['a'].value\n",
    "    retroactivity_n         = (\\\n",
    "                                   1 +\n",
    "                                   X / ps['a'].value\\\n",
    "                                   - X / ps['a'].value\\\n",
    "                              ) *\\\n",
    "                              .3/ ps['a'].value \n",
    "    \n",
    "    retroactivity_d         = (1+np.sum ( X / ps['a'].value))**2\n",
    "    dXdt    =   ( ps['b'].value - degradation_dynamics_n / degradation_dynamics_d - np.log(2)/1200 * X ) /\\\n",
    "                (1+ retroactivity_n / retroactivity_d)\n",
    "    return dXdt\n",
    "\n",
    "def g(t, x0, ps):\n",
    "    \"\"\"\n",
    "    Solution to the ODE x'(t) = f(t,x,k) with initial condition x(0) = x0\n",
    "    \"\"\"\n",
    " \n",
    "    x = odeint(f, x0, t, args=(ps,))\n",
    "    \n",
    "    return x\n",
    "\n",
    "def residual(ps, t, data):\n",
    "\n",
    "    x0 = ps['x0'].value\n",
    "    \n",
    "    model = g(t, x0, ps)\n",
    "    model = np.ravel(model)\n",
    "\n",
    "    return abs((model - data))\n",
    "\n",
    "t = np.array([0,20,40,60,80,100,120,140,160,180])\n",
    "t = 60 * t\n",
    "\n",
    "data = np.array([0.007684816,0.026903985,0.318041772,0.603883329,\n",
    "                 0.778755759,0.897653379,0.978326541,0.994102523,0.985756947,1])\n",
    "# set parameters incluing bounds\n",
    "\n",
    "results = dict()\n",
    "# fit model and find predicted values\n",
    "i = 0\n",
    "for d in data_unscaled:\n",
    "    params = Parameters()\n",
    "    params.add('x0', d[0], min=0)\n",
    "    params.add('a', value= 4, min=1)\n",
    "    params.add('b', value= .02, min=0, max =1)\n",
    " \n",
    "    result = minimize(residual, params, args=( t,d), method='leastsq')\n",
    "  \n",
    "    final = d + result.residual.reshape(data.shape)\n",
    "    \n",
    "    final = final/final[9]\n",
    "#plt.plot(t,final)\n",
    "#plot data and fitted curves\n",
    "    results[i] = result.params\n",
    "    i = i + 1\n",
    "    #plt.plot(t,residual(result.params,t,data)+data,'r')\n",
    "    plt.plot(t, final,'*');\n",
    "    \n",
    "    plt.plot(t,d/d[9],'o')\n",
    "    plt.xlabel('time in seconds')\n",
    "    plt.ylabel('scaled concentration')\n",
    "    print(report_fit(result))\n",
    "    plt.show()"
   ]
  },
  {
   "cell_type": "code",
   "execution_count": null,
   "metadata": {
    "collapsed": true
   },
   "outputs": [],
   "source": [
    "# The following is the case for simultaneous induction "
   ]
  },
  {
   "cell_type": "code",
   "execution_count": 24,
   "metadata": {
    "collapsed": true
   },
   "outputs": [],
   "source": [
    "data_3c_unscaled = np.array([\n",
    "14.43074038,\n",
    "54.71018562,\n",
    "551.4968474,\n",
    "1185.787007,\n",
    "1672.385222,\n",
    "2022.396548,\n",
    "2319.628797,\n",
    "2427.208616,\n",
    "2467.664737,\n",
    "2516.516319])"
   ]
  },
  {
   "cell_type": "code",
   "execution_count": 25,
   "metadata": {
    "collapsed": true
   },
   "outputs": [],
   "source": [
    "data_3a_unscaled = np.array([\n",
    "10.45642219,\n",
    "64.11849239,\n",
    "598.432776,\n",
    "1091.93544,\n",
    "1435.49689,\n",
    "1661.31842,\n",
    "1738.291156,\n",
    "1845.335084,\n",
    "1878.640362,\n",
    "1842.613122])"
   ]
  },
  {
   "cell_type": "code",
   "execution_count": 26,
   "metadata": {
    "collapsed": true
   },
   "outputs": [],
   "source": [
    "data_3b_unscaled = np.array([\n",
    "10.86028619,\n",
    "25.48353404,\n",
    "211.8248257,\n",
    "487.5588974,\n",
    "753.4158107,\n",
    "917.7516454,\n",
    "1017.417576,\n",
    "1094.421244,\n",
    "1148.126967,\n",
    "1150.262222])"
   ]
  },
  {
   "cell_type": "code",
   "execution_count": 27,
   "metadata": {
    "collapsed": true
   },
   "outputs": [],
   "source": [
    "data_3e_unscaled = np.array([\n",
    "13.59845923,\n",
    "49.13260814,\n",
    "614.2766534,\n",
    "1384.000655,\n",
    "1976.857541,\n",
    "2421.742234,\n",
    "2706.677756,\n",
    "2910.10041,\n",
    "3049.730127,\n",
    "3065.626056])"
   ]
  },
  {
   "cell_type": "code",
   "execution_count": 28,
   "metadata": {
    "collapsed": true
   },
   "outputs": [],
   "source": [
    "data_unscaled = [data_3a_unscaled, data_3b_unscaled,data_3c_unscaled,data_3e_unscaled]"
   ]
  },
  {
   "cell_type": "code",
   "execution_count": 16,
   "metadata": {
    "collapsed": false
   },
   "outputs": [],
   "source": [
    "data_no_tag = np.array([\n",
    "97.56359065,\n",
    "177.3598439,\n",
    "1191.582814,\n",
    "3055.170501,\n",
    "4935.753995,\n",
    "6734.532566,\n",
    "8397.505669,\n",
    "10311.95787,\n",
    "11150.45461,\n",
    "11433.73542,\n",
    "11095.39906,\n",
    "10367.62629,\n",
    "10691.90816,\n",
    "10530.65819,\n",
    "10196.41362,\n",
    "9889.022493])\n",
    "    "
   ]
  },
  {
   "cell_type": "code",
   "execution_count": 29,
   "metadata": {
    "collapsed": false
   },
   "outputs": [
    {
     "name": "stdout",
     "output_type": "stream",
     "text": [
      "[[Fit Statistics]]\n",
      "    # function evals   = 1458\n",
      "    # data points      = 16\n",
      "    # variables        = 2\n",
      "    chi-square         = 1154392194.799\n",
      "    reduced chi-square = 82456585.343\n",
      "    Akaike info crit   = 293.508\n",
      "    Bayesian info crit = 295.053\n",
      "[[Variables]]\n",
      "    x0:   1148.07392 +/- 7.97e+03 (693.87%) (init= 97.56359)\n",
      "    k:    5.2096e-08 +/- 11.10716 (21320549059.69%) (init= 0.02)\n",
      "[[Correlations]] (unreported correlations are <  0.100)\n",
      "    C(x0, k)                     = -0.160 \n",
      "None\n"
     ]
    },
    {
     "data": {
      "image/png": "[encoded data removed]",
      "text/plain": [
       "<matplotlib.figure.Figure at 0x1a196a36a0>"
      ]
     },
     "metadata": {},
     "output_type": "display_data"
    }
   ],
   "source": [
    "def simultaneous(X,t, ps):\n",
    "    degradation_dynamics_n  =  .3*(11.3 / 60 + np.log(2)/1200) * X[0] / ps['a'].value\n",
    "    degradation_dynamics_d  = 1 +  X[0] / ps['a'].value\n",
    "    retroactivity_n         = (\\\n",
    "                                   1 +\n",
    "                                   X[0] / ps['a'].value\\\n",
    "                                   - X[0] / ps['a'].value\\\n",
    "                              ) *\\\n",
    "                              .3/ ps['a'].value \n",
    "    \n",
    "    retroactivity_d         = (1+np.sum ( X[0] / ps['a'].value))**2\n",
    "    dXdt[0]    =   ( ps['b'].value - degradation_dynamics_n / degradation_dynamics_d - np.log(2)/1200 * X[0] ) /\\\n",
    "                (1+ retroactivity_n / retroactivity_d)\n",
    "    dXdt[1]    = ps['protease_production'] - X[1]*ps['protease_dilution']\n",
    "    return dXdt\n",
    "\n",
    "def simultaneous_integration(t, x0, ps):\n",
    "    \"\"\"\n",
    "    Solution to the ODE x'(t) = f(t,x,k) with initial condition x(0) = x0\n",
    "    \"\"\"\n",
    " \n",
    "    x = odeint(f, x0, t, args=(ps,))\n",
    "    \n",
    "    return x\n",
    "\n",
    "\n",
    "def residual(ps, t, data):\n",
    "\n",
    "    x0 = ps['x0'].value\n",
    "    \n",
    "    model = g(t, x0, ps)\n",
    "    model = np.ravel(model)\n",
    "\n",
    "    return abs((model - data))"
   ]
  },
  {
   "cell_type": "code",
   "execution_count": 56,
   "metadata": {
    "collapsed": false,
    "scrolled": true
   },
   "outputs": [
    {
     "name": "stdout",
     "output_type": "stream",
     "text": [
      "[[Fit Statistics]]\n",
      "    # function evals   = 632\n",
      "    # data points      = 16\n",
      "    # variables        = 2\n",
      "    chi-square         = 1154384768.004\n",
      "    reduced chi-square = 82456054.857\n",
      "    Akaike info crit   = 293.508\n",
      "    Bayesian info crit = 295.053\n",
      "[[Variables]]\n",
      "    x0:   1191.61352 +/- 7.97e+03 (668.54%) (init= 97.56359)\n",
      "    k:    1.9858e-09 +/- 5.242661 (264005966173.76%) (init= 0.1)\n",
      "[[Correlations]] (unreported correlations are <  0.100)\n",
      "    C(x0, k)                     = -0.160 \n",
      "None\n"
     ]
    },
    {
     "data": {
      "image/png": "[encoded data removed]",
      "text/plain": [
       "<matplotlib.figure.Figure at 0x1a19ab70b8>"
      ]
     },
     "metadata": {},
     "output_type": "display_data"
    }
   ],
   "source": [
    "\n",
    "params = Parameters()\n",
    "params.add('x0', data_no_tag[0], min=0)\n",
    "params.add('k', value= .1, min = 0, max =1 )\n",
    "\n",
    "result = minimize(residual, params, args=( t,data_no_tag), method='leastsq')\n",
    "  \n",
    "final = data_no_tag+ result.residual.reshape(data_no_tag.shape)\n",
    "    \n",
    "final = final\n",
    "#plt.plot(t,final)\n",
    "#plot data and fitted curves\n",
    "results[i] = result.params\n",
    "i = i + 1\n",
    "plt.plot(t,residual(result.params,t,data_no_tag)+data_no_tag,'r')\n",
    "#plt.plot(t, final,'*');\n",
    "\n",
    "plt.plot(t,data_no_tag,'o')\n",
    "plt.xlabel('time in seconds')\n",
    "plt.ylabel('scaled concentration')\n",
    "print(report_fit(result))\n",
    "plt.show()"
   ]
  }
 ],
 "metadata": {
  "kernelspec": {
   "display_name": "Python 3",
   "language": "python",
   "name": "python3"
  },
  "language_info": {
   "codemirror_mode": {
    "name": "ipython",
    "version": 3
   },
   "file_extension": ".py",
   "mimetype": "text/x-python",
   "name": "python",
   "nbconvert_exporter": "python",
   "pygments_lexer": "ipython3",
   "version": "3.6.0"
  }
 },
 "nbformat": 4,
 "nbformat_minor": 2
}
